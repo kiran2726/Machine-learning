{
  "nbformat": 4,
  "nbformat_minor": 0,
  "metadata": {
    "colab": {
      "provenance": [],
      "include_colab_link": true
    },
    "kernelspec": {
      "name": "python3",
      "display_name": "Python 3"
    },
    "language_info": {
      "name": "python"
    }
  },
  "cells": [
    {
      "cell_type": "markdown",
      "metadata": {
        "id": "view-in-github",
        "colab_type": "text"
      },
      "source": [
        "<a href=\"https://colab.research.google.com/github/kiran2726/Machine-learning/blob/main/ANN_1.ipynb\" target=\"_parent\"><img src=\"https://colab.research.google.com/assets/colab-badge.svg\" alt=\"Open In Colab\"/></a>"
      ]
    },
    {
      "cell_type": "markdown",
      "source": [
        "**Build an Artificial Neural Network From Scratch**"
      ],
      "metadata": {
        "id": "h1erqFLDl4iS"
      }
    },
    {
      "cell_type": "markdown",
      "source": [
        "Let's create some random dataset:"
      ],
      "metadata": {
        "id": "O19R7tPml-NX"
      }
    },
    {
      "cell_type": "markdown",
      "source": [
        "![image.png](data:image/png;base64,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)"
      ],
      "metadata": {
        "id": "ZNCFIoGJl-Q_"
      }
    },
    {
      "cell_type": "code",
      "source": [],
      "metadata": {
        "id": "onhsjpvboVRl"
      },
      "execution_count": null,
      "outputs": []
    },
    {
      "cell_type": "markdown",
      "source": [
        "Steps to follow:\n",
        "1. Define independent variables and dependent variable\n",
        "2. Define Hyperparameters\n",
        "3. Define Activation Function and its derivative\n",
        "4. Train the model\n",
        "5. Make predictions"
      ],
      "metadata": {
        "id": "L-O0t-KamNin"
      }
    },
    {
      "cell_type": "code",
      "source": [
        "import pandas as pd\n",
        "import numpy as np"
      ],
      "metadata": {
        "id": "jdxed25LmdwH"
      },
      "execution_count": null,
      "outputs": []
    },
    {
      "cell_type": "markdown",
      "source": [
        "**Step-1: Let’s first create our independent variables or input feature set and the corresponding dependent variable or labels.**"
      ],
      "metadata": {
        "id": "_6orBwnzmNlv"
      }
    },
    {
      "cell_type": "code",
      "execution_count": null,
      "metadata": {
        "id": "cDg1B5gXl2A9"
      },
      "outputs": [],
      "source": [
        "#Independent variables\n",
        "input_set = np.array([[0,1,0],\n",
        "                      [0,0,1],\n",
        "                      [1,0,0],\n",
        "                      [1,1,0],\n",
        "                      [1,1,1],\n",
        "                      [0,1,1],\n",
        "                      [0,1,0]])#Dependent variable\n",
        "labels = np.array([[1,\n",
        "                    0,\n",
        "                    0,\n",
        "                    1,\n",
        "                    1,\n",
        "                    0,\n",
        "                    1]])\n",
        "labels = labels.reshape(7,1) #to convert labels to vector\n"
      ]
    },
    {
      "cell_type": "markdown",
      "source": [
        "**Define Hyperparameters**"
      ],
      "metadata": {
        "id": "g8QloCYYmaxf"
      }
    },
    {
      "cell_type": "code",
      "source": [
        "np.random.seed(42)\n",
        "weights = np.random.rand(3,1)\n",
        "bias = np.random.rand(1)\n",
        "lr = 0.05 #learning rate"
      ],
      "metadata": {
        "id": "fr_fOs0KmVm3"
      },
      "execution_count": null,
      "outputs": []
    },
    {
      "cell_type": "markdown",
      "source": [
        "**Define Activation Function and it’s derivative: Our activation function is the sigmoid function.**"
      ],
      "metadata": {
        "id": "nJTrrq3nmoiv"
      }
    },
    {
      "cell_type": "code",
      "source": [
        "def sigmoid(x):\n",
        "    return 1/(1+np.exp(-x))"
      ],
      "metadata": {
        "id": "wLwkkFUxmlu3"
      },
      "execution_count": null,
      "outputs": []
    },
    {
      "cell_type": "markdown",
      "source": [
        "calculates the derivative of the sigmoid function."
      ],
      "metadata": {
        "id": "wgWB7nffmsFY"
      }
    },
    {
      "cell_type": "code",
      "source": [
        "def sigmoid_derivative(x):\n",
        "    return sigmoid(x)*(1-sigmoid(x))"
      ],
      "metadata": {
        "id": "VX6v6aggmw03"
      },
      "execution_count": null,
      "outputs": []
    },
    {
      "cell_type": "markdown",
      "source": [
        "**Its time to train our ANN model**"
      ],
      "metadata": {
        "id": "TlnJqZNBm4oO"
      }
    },
    {
      "cell_type": "code",
      "source": [
        "for epoch in range(25):\n",
        "    inputs = input_set\n",
        "    XW = np.dot(inputs, weights)+ bias\n",
        "    z = sigmoid(XW)\n",
        "    error = z - labels\n",
        "    print(error.sum())\n",
        "    dcost = error\n",
        "    dpred = sigmoid_derivative(z)\n",
        "    z_del = dcost * dpred\n",
        "    inputs = input_set.T\n",
        "    weights = weights - lr*np.dot(inputs, z_del)\n",
        "\n",
        "    for num in z_del:\n",
        "        bias = bias - lr*num"
      ],
      "metadata": {
        "colab": {
          "base_uri": "https://localhost:8080/"
        },
        "id": "124twwhvmxXm",
        "outputId": "52e4f987-0c95-4f7c-a81a-d08c07ab87c6"
      },
      "execution_count": null,
      "outputs": [
        {
          "output_type": "stream",
          "name": "stdout",
          "text": [
            "-0.0026630071221667093\n",
            "-0.0026629336804870653\n",
            "-0.0026628602420454145\n",
            "-0.0026627868068403934\n",
            "-0.002662713374873296\n",
            "-0.0026626399461429848\n",
            "-0.0026625665206490984\n",
            "-0.002662493098392893\n",
            "-0.002662419679373168\n",
            "-0.0026623462635905724\n",
            "-0.002662272851044069\n",
            "-0.0026621994417350935\n",
            "-0.0026621260356619533\n",
            "-0.002662052632825533\n",
            "-0.0026619792332255726\n",
            "-0.0026619058368613398\n",
            "-0.0026618324437335875\n",
            "-0.0026617590538421214\n",
            "-0.0026616856671868375\n",
            "-0.0026616122837675657\n",
            "-0.0026615389035837336\n",
            "-0.0026614655266355113\n",
            "-0.0026613921529241927\n",
            "-0.002661318782447134\n",
            "-0.0026612454152062856\n"
          ]
        }
      ]
    },
    {
      "cell_type": "markdown",
      "source": [
        "**Make predictions**"
      ],
      "metadata": {
        "id": "yPz9cxGFnOG3"
      }
    },
    {
      "cell_type": "code",
      "source": [
        "single_pt = np.array([1,0,0])\n",
        "result = sigmoid(np.dot(single_pt, weights) + bias)\n",
        "print(result)"
      ],
      "metadata": {
        "colab": {
          "base_uri": "https://localhost:8080/"
        },
        "id": "iwA67Kb3m773",
        "outputId": "ccd72515-7ca0-4e82-a012-7bffb2eda7d1"
      },
      "execution_count": null,
      "outputs": [
        {
          "output_type": "stream",
          "name": "stdout",
          "text": [
            "[0.02260728]\n"
          ]
        }
      ]
    },
    {
      "cell_type": "code",
      "source": [
        "single_pt = np.array([0,1,0])\n",
        "result = sigmoid(np.dot(single_pt, weights) + bias)\n",
        "print(result)"
      ],
      "metadata": {
        "colab": {
          "base_uri": "https://localhost:8080/"
        },
        "id": "f3x2Z-GSnSy2",
        "outputId": "8600a69b-7975-41d2-d4ca-9a713728bf34"
      },
      "execution_count": null,
      "outputs": [
        {
          "output_type": "stream",
          "name": "stdout",
          "text": [
            "[0.98779873]\n"
          ]
        }
      ]
    },
    {
      "cell_type": "code",
      "source": [],
      "metadata": {
        "id": "p336z4LQnYiG"
      },
      "execution_count": null,
      "outputs": []
    }
  ]
}